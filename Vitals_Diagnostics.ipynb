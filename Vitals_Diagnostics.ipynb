{
 "cells": [
  {
   "cell_type": "markdown",
   "metadata": {},
   "source": [
    "# Introduction\n",
    "\n",
    "Here we will begin evaluating the qt_dataset with bio-metric data generally referred to as vitals. \n",
    "We will look to see if we can build a model to predict Covid-19 based on the features in this dataset"
   ]
  },
  {
   "cell_type": "code",
   "execution_count": 1,
   "metadata": {},
   "outputs": [],
   "source": [
    "# First I need to import my libraries\n",
    "\n",
    "import numpy as np\n",
    "\n",
    "import pandas as pd\n",
    "from pandas.io.json import json_normalize\n",
    "pd.set_option('display.max_columns', None)\n",
    "pd.set_option('display.max_rows', None)\n",
    "\n",
    "\n",
    "import matplotlib.cm as cm\n",
    "import matplotlib.colors as colors\n",
    "import matplotlib.pyplot as plt\n",
    "import seaborn as sns\n",
    "%matplotlib inline \n",
    "\n",
    "from sklearn import preprocessing\n",
    "from sklearn.model_selection import train_test_split\n",
    "from sklearn.pipeline import Pipeline\n",
    "\n",
    "import coremltools"
   ]
  },
  {
   "cell_type": "markdown",
   "metadata": {},
   "source": [
    "Lets load up our dataset into a pandas DataFrame"
   ]
  },
  {
   "cell_type": "code",
   "execution_count": 2,
   "metadata": {},
   "outputs": [
    {
     "name": "stdout",
     "output_type": "stream",
     "text": [
      "DataFrame shape: (10000, 5)\n"
     ]
    },
    {
     "data": {
      "text/html": [
       "<div>\n",
       "<style scoped>\n",
       "    .dataframe tbody tr th:only-of-type {\n",
       "        vertical-align: middle;\n",
       "    }\n",
       "\n",
       "    .dataframe tbody tr th {\n",
       "        vertical-align: top;\n",
       "    }\n",
       "\n",
       "    .dataframe thead th {\n",
       "        text-align: right;\n",
       "    }\n",
       "</style>\n",
       "<table border=\"1\" class=\"dataframe\">\n",
       "  <thead>\n",
       "    <tr style=\"text-align: right;\">\n",
       "      <th></th>\n",
       "      <th>ID</th>\n",
       "      <th>Oxy</th>\n",
       "      <th>Pulse</th>\n",
       "      <th>Temp</th>\n",
       "      <th>Result</th>\n",
       "    </tr>\n",
       "  </thead>\n",
       "  <tbody>\n",
       "    <tr>\n",
       "      <th>0</th>\n",
       "      <td>0</td>\n",
       "      <td>98</td>\n",
       "      <td>65</td>\n",
       "      <td>95</td>\n",
       "      <td>Negative</td>\n",
       "    </tr>\n",
       "    <tr>\n",
       "      <th>1</th>\n",
       "      <td>1</td>\n",
       "      <td>96</td>\n",
       "      <td>92</td>\n",
       "      <td>95</td>\n",
       "      <td>Negative</td>\n",
       "    </tr>\n",
       "    <tr>\n",
       "      <th>2</th>\n",
       "      <td>2</td>\n",
       "      <td>95</td>\n",
       "      <td>92</td>\n",
       "      <td>99</td>\n",
       "      <td>Negative</td>\n",
       "    </tr>\n",
       "    <tr>\n",
       "      <th>3</th>\n",
       "      <td>3</td>\n",
       "      <td>97</td>\n",
       "      <td>56</td>\n",
       "      <td>96</td>\n",
       "      <td>Negative</td>\n",
       "    </tr>\n",
       "    <tr>\n",
       "      <th>4</th>\n",
       "      <td>4</td>\n",
       "      <td>88</td>\n",
       "      <td>94</td>\n",
       "      <td>98</td>\n",
       "      <td>Positive</td>\n",
       "    </tr>\n",
       "  </tbody>\n",
       "</table>\n",
       "</div>"
      ],
      "text/plain": [
       "   ID  Oxy  Pulse  Temp    Result\n",
       "0   0   98     65    95  Negative\n",
       "1   1   96     92    95  Negative\n",
       "2   2   95     92    99  Negative\n",
       "3   3   97     56    96  Negative\n",
       "4   4   88     94    98  Positive"
      ]
     },
     "execution_count": 2,
     "metadata": {},
     "output_type": "execute_result"
    }
   ],
   "source": [
    "originalData_df = pd.read_csv('qt_dataset.csv')\n",
    "print(\"DataFrame shape: {}\".format(originalData_df.shape))\n",
    "originalData_df.head()"
   ]
  },
  {
   "cell_type": "markdown",
   "metadata": {},
   "source": [
    "## Exploratory Data Analysis\n",
    "Lets first explore this dataset to see what insights we can find"
   ]
  },
  {
   "cell_type": "markdown",
   "metadata": {},
   "source": [
    "Confirming here that we have a balanced dataset for our target value or Positive or Negative for Covid-19"
   ]
  },
  {
   "cell_type": "code",
   "execution_count": 3,
   "metadata": {},
   "outputs": [
    {
     "data": {
      "text/plain": [
       "Negative    5010\n",
       "Positive    4990\n",
       "Name: Result, dtype: int64"
      ]
     },
     "execution_count": 3,
     "metadata": {},
     "output_type": "execute_result"
    }
   ],
   "source": [
    "originalData_df['Result'].value_counts()"
   ]
  },
  {
   "cell_type": "markdown",
   "metadata": {},
   "source": [
    "Mean values for all three features we are considering are relatively close to each other. But standard deviation and the range for pulse is significatly higher than the other two. "
   ]
  },
  {
   "cell_type": "code",
   "execution_count": 4,
   "metadata": {},
   "outputs": [
    {
     "data": {
      "text/html": [
       "<div>\n",
       "<style scoped>\n",
       "    .dataframe tbody tr th:only-of-type {\n",
       "        vertical-align: middle;\n",
       "    }\n",
       "\n",
       "    .dataframe tbody tr th {\n",
       "        vertical-align: top;\n",
       "    }\n",
       "\n",
       "    .dataframe thead th {\n",
       "        text-align: right;\n",
       "    }\n",
       "</style>\n",
       "<table border=\"1\" class=\"dataframe\">\n",
       "  <thead>\n",
       "    <tr style=\"text-align: right;\">\n",
       "      <th></th>\n",
       "      <th>Oxy</th>\n",
       "      <th>Pulse</th>\n",
       "      <th>Temp</th>\n",
       "    </tr>\n",
       "  </thead>\n",
       "  <tbody>\n",
       "    <tr>\n",
       "      <th>count</th>\n",
       "      <td>10000.000000</td>\n",
       "      <td>10000.000000</td>\n",
       "      <td>10000.000000</td>\n",
       "    </tr>\n",
       "    <tr>\n",
       "      <th>mean</th>\n",
       "      <td>92.548900</td>\n",
       "      <td>84.976600</td>\n",
       "      <td>100.000700</td>\n",
       "    </tr>\n",
       "    <tr>\n",
       "      <th>std</th>\n",
       "      <td>4.611197</td>\n",
       "      <td>26.305841</td>\n",
       "      <td>3.185045</td>\n",
       "    </tr>\n",
       "    <tr>\n",
       "      <th>min</th>\n",
       "      <td>85.000000</td>\n",
       "      <td>40.000000</td>\n",
       "      <td>95.000000</td>\n",
       "    </tr>\n",
       "    <tr>\n",
       "      <th>25%</th>\n",
       "      <td>88.000000</td>\n",
       "      <td>63.000000</td>\n",
       "      <td>97.000000</td>\n",
       "    </tr>\n",
       "    <tr>\n",
       "      <th>50%</th>\n",
       "      <td>93.000000</td>\n",
       "      <td>85.000000</td>\n",
       "      <td>100.000000</td>\n",
       "    </tr>\n",
       "    <tr>\n",
       "      <th>75%</th>\n",
       "      <td>97.000000</td>\n",
       "      <td>108.000000</td>\n",
       "      <td>103.000000</td>\n",
       "    </tr>\n",
       "    <tr>\n",
       "      <th>max</th>\n",
       "      <td>100.000000</td>\n",
       "      <td>130.000000</td>\n",
       "      <td>105.000000</td>\n",
       "    </tr>\n",
       "  </tbody>\n",
       "</table>\n",
       "</div>"
      ],
      "text/plain": [
       "                Oxy         Pulse          Temp\n",
       "count  10000.000000  10000.000000  10000.000000\n",
       "mean      92.548900     84.976600    100.000700\n",
       "std        4.611197     26.305841      3.185045\n",
       "min       85.000000     40.000000     95.000000\n",
       "25%       88.000000     63.000000     97.000000\n",
       "50%       93.000000     85.000000    100.000000\n",
       "75%       97.000000    108.000000    103.000000\n",
       "max      100.000000    130.000000    105.000000"
      ]
     },
     "execution_count": 4,
     "metadata": {},
     "output_type": "execute_result"
    }
   ],
   "source": [
    "originalData_df[['Oxy','Pulse','Temp']].describe()"
   ]
  },
  {
   "cell_type": "code",
   "execution_count": 5,
   "metadata": {},
   "outputs": [
    {
     "data": {
      "text/plain": [
       "<AxesSubplot:>"
      ]
     },
     "execution_count": 5,
     "metadata": {},
     "output_type": "execute_result"
    },
    {
     "data": {
      "image/png": "[encoded data removed]",
      "text/plain": [
       "<Figure size 432x288 with 1 Axes>"
      ]
     },
     "metadata": {
      "needs_background": "light"
     },
     "output_type": "display_data"
    }
   ],
   "source": [
    "df = originalData_df[['Oxy', 'Pulse', 'Temp']]\n",
    "df.boxplot()"
   ]
  },
  {
   "cell_type": "markdown",
   "metadata": {},
   "source": [
    "Lets add some box plots to see how features are distributed for positive and negative results.\n",
    "\n",
    "At first glance, we can see the biggest disparity between postive and negative results are for Sp02. Almost the entirety of positive cases are significantly lower than negative cases. Even extremely high Sp02 levels for positive cases dont reach the mean for negative cases. Interquartile ranges for temperatures are noticibly higher for postive cases, but minimum and maximum values are almost identical. There is little difference between positive and negative cases for our Pulse measurements."
   ]
  },
  {
   "cell_type": "code",
   "execution_count": 6,
   "metadata": {},
   "outputs": [
    {
     "data": {
      "image/png": "[encoded data removed]",
      "text/plain": [
       "<Figure size 1080x360 with 3 Axes>"
      ]
     },
     "metadata": {
      "needs_background": "light"
     },
     "output_type": "display_data"
    }
   ],
   "source": [
    "fig, ax = plt.subplots(1,3,figsize=(15,5))\n",
    "plot1 = sns.boxplot(x=\"Result\", y=\"Oxy\", data=originalData_df, ax=ax[0])\n",
    "plot2 = sns.boxplot(x=\"Result\", y=\"Pulse\", data=originalData_df, ax=ax[1])\n",
    "plot3 = sns.boxplot(x=\"Result\", y=\"Temp\", data=originalData_df, ax=ax[2])"
   ]
  },
  {
   "cell_type": "markdown",
   "metadata": {},
   "source": [
    "This was actually very interesting to me. I would have guessed a decent correlation between these vitals. For example, I would have thought that a low Sp02 level might lead to an increase in pulse to try and compensate for low oxygen levels throughout the body. What we find here though is that there is little correlation between these three values. A change in one value does not have much impact on the others. "
   ]
  },
  {
   "cell_type": "code",
   "execution_count": 7,
   "metadata": {},
   "outputs": [
    {
     "data": {
      "text/html": [
       "<div>\n",
       "<style scoped>\n",
       "    .dataframe tbody tr th:only-of-type {\n",
       "        vertical-align: middle;\n",
       "    }\n",
       "\n",
       "    .dataframe tbody tr th {\n",
       "        vertical-align: top;\n",
       "    }\n",
       "\n",
       "    .dataframe thead th {\n",
       "        text-align: right;\n",
       "    }\n",
       "</style>\n",
       "<table border=\"1\" class=\"dataframe\">\n",
       "  <thead>\n",
       "    <tr style=\"text-align: right;\">\n",
       "      <th></th>\n",
       "      <th>ID</th>\n",
       "      <th>Oxy</th>\n",
       "      <th>Pulse</th>\n",
       "      <th>Temp</th>\n",
       "    </tr>\n",
       "  </thead>\n",
       "  <tbody>\n",
       "    <tr>\n",
       "      <th>ID</th>\n",
       "      <td>1.000000</td>\n",
       "      <td>-0.002693</td>\n",
       "      <td>-0.012499</td>\n",
       "      <td>-0.009279</td>\n",
       "    </tr>\n",
       "    <tr>\n",
       "      <th>Oxy</th>\n",
       "      <td>-0.002693</td>\n",
       "      <td>1.000000</td>\n",
       "      <td>-0.005724</td>\n",
       "      <td>-0.015681</td>\n",
       "    </tr>\n",
       "    <tr>\n",
       "      <th>Pulse</th>\n",
       "      <td>-0.012499</td>\n",
       "      <td>-0.005724</td>\n",
       "      <td>1.000000</td>\n",
       "      <td>0.009602</td>\n",
       "    </tr>\n",
       "    <tr>\n",
       "      <th>Temp</th>\n",
       "      <td>-0.009279</td>\n",
       "      <td>-0.015681</td>\n",
       "      <td>0.009602</td>\n",
       "      <td>1.000000</td>\n",
       "    </tr>\n",
       "  </tbody>\n",
       "</table>\n",
       "</div>"
      ],
      "text/plain": [
       "             ID       Oxy     Pulse      Temp\n",
       "ID     1.000000 -0.002693 -0.012499 -0.009279\n",
       "Oxy   -0.002693  1.000000 -0.005724 -0.015681\n",
       "Pulse -0.012499 -0.005724  1.000000  0.009602\n",
       "Temp  -0.009279 -0.015681  0.009602  1.000000"
      ]
     },
     "execution_count": 7,
     "metadata": {},
     "output_type": "execute_result"
    }
   ],
   "source": [
    "originalData_df.corr()"
   ]
  },
  {
   "cell_type": "markdown",
   "metadata": {},
   "source": [
    "Since we are attempting to predict Postive and Negative labels, lets change our Result feature to a 1 for positive cases and 0 for negative cases. This will help with data analysis and for building a model. "
   ]
  },
  {
   "cell_type": "code",
   "execution_count": 8,
   "metadata": {},
   "outputs": [
    {
     "data": {
      "text/html": [
       "<div>\n",
       "<style scoped>\n",
       "    .dataframe tbody tr th:only-of-type {\n",
       "        vertical-align: middle;\n",
       "    }\n",
       "\n",
       "    .dataframe tbody tr th {\n",
       "        vertical-align: top;\n",
       "    }\n",
       "\n",
       "    .dataframe thead th {\n",
       "        text-align: right;\n",
       "    }\n",
       "</style>\n",
       "<table border=\"1\" class=\"dataframe\">\n",
       "  <thead>\n",
       "    <tr style=\"text-align: right;\">\n",
       "      <th></th>\n",
       "      <th>ID</th>\n",
       "      <th>Oxy</th>\n",
       "      <th>Pulse</th>\n",
       "      <th>Temp</th>\n",
       "      <th>Result</th>\n",
       "    </tr>\n",
       "  </thead>\n",
       "  <tbody>\n",
       "    <tr>\n",
       "      <th>0</th>\n",
       "      <td>0</td>\n",
       "      <td>98</td>\n",
       "      <td>65</td>\n",
       "      <td>95</td>\n",
       "      <td>0</td>\n",
       "    </tr>\n",
       "    <tr>\n",
       "      <th>1</th>\n",
       "      <td>1</td>\n",
       "      <td>96</td>\n",
       "      <td>92</td>\n",
       "      <td>95</td>\n",
       "      <td>0</td>\n",
       "    </tr>\n",
       "    <tr>\n",
       "      <th>2</th>\n",
       "      <td>2</td>\n",
       "      <td>95</td>\n",
       "      <td>92</td>\n",
       "      <td>99</td>\n",
       "      <td>0</td>\n",
       "    </tr>\n",
       "    <tr>\n",
       "      <th>3</th>\n",
       "      <td>3</td>\n",
       "      <td>97</td>\n",
       "      <td>56</td>\n",
       "      <td>96</td>\n",
       "      <td>0</td>\n",
       "    </tr>\n",
       "    <tr>\n",
       "      <th>4</th>\n",
       "      <td>4</td>\n",
       "      <td>88</td>\n",
       "      <td>94</td>\n",
       "      <td>98</td>\n",
       "      <td>1</td>\n",
       "    </tr>\n",
       "  </tbody>\n",
       "</table>\n",
       "</div>"
      ],
      "text/plain": [
       "   ID  Oxy  Pulse  Temp  Result\n",
       "0   0   98     65    95       0\n",
       "1   1   96     92    95       0\n",
       "2   2   95     92    99       0\n",
       "3   3   97     56    96       0\n",
       "4   4   88     94    98       1"
      ]
     },
     "execution_count": 8,
     "metadata": {},
     "output_type": "execute_result"
    }
   ],
   "source": [
    "originalData_df['Result'] = [1 if x == 'Positive' else 0 for x in originalData_df['Result']]\n",
    "originalData_df.head()"
   ]
  },
  {
   "cell_type": "markdown",
   "metadata": {},
   "source": [
    "As kind of expected from the box plots above, we see a pretty strong negative correlation between Sp02 levels and a Covid-19 diagnosis. We also see some correlation between temperature and results, although significantly less than Sp02 levels. Finally, correlation between Pulse and Results is weak to non-existent."
   ]
  },
  {
   "cell_type": "code",
   "execution_count": 9,
   "metadata": {},
   "outputs": [
    {
     "data": {
      "text/html": [
       "<div>\n",
       "<style scoped>\n",
       "    .dataframe tbody tr th:only-of-type {\n",
       "        vertical-align: middle;\n",
       "    }\n",
       "\n",
       "    .dataframe tbody tr th {\n",
       "        vertical-align: top;\n",
       "    }\n",
       "\n",
       "    .dataframe thead th {\n",
       "        text-align: right;\n",
       "    }\n",
       "</style>\n",
       "<table border=\"1\" class=\"dataframe\">\n",
       "  <thead>\n",
       "    <tr style=\"text-align: right;\">\n",
       "      <th></th>\n",
       "      <th>ID</th>\n",
       "      <th>Oxy</th>\n",
       "      <th>Pulse</th>\n",
       "      <th>Temp</th>\n",
       "      <th>Result</th>\n",
       "    </tr>\n",
       "  </thead>\n",
       "  <tbody>\n",
       "    <tr>\n",
       "      <th>ID</th>\n",
       "      <td>1.000000</td>\n",
       "      <td>-0.002693</td>\n",
       "      <td>-0.012499</td>\n",
       "      <td>-0.009279</td>\n",
       "      <td>0.011395</td>\n",
       "    </tr>\n",
       "    <tr>\n",
       "      <th>Oxy</th>\n",
       "      <td>-0.002693</td>\n",
       "      <td>1.000000</td>\n",
       "      <td>-0.005724</td>\n",
       "      <td>-0.015681</td>\n",
       "      <td>-0.777019</td>\n",
       "    </tr>\n",
       "    <tr>\n",
       "      <th>Pulse</th>\n",
       "      <td>-0.012499</td>\n",
       "      <td>-0.005724</td>\n",
       "      <td>1.000000</td>\n",
       "      <td>0.009602</td>\n",
       "      <td>0.050590</td>\n",
       "    </tr>\n",
       "    <tr>\n",
       "      <th>Temp</th>\n",
       "      <td>-0.009279</td>\n",
       "      <td>-0.015681</td>\n",
       "      <td>0.009602</td>\n",
       "      <td>1.000000</td>\n",
       "      <td>0.262522</td>\n",
       "    </tr>\n",
       "    <tr>\n",
       "      <th>Result</th>\n",
       "      <td>0.011395</td>\n",
       "      <td>-0.777019</td>\n",
       "      <td>0.050590</td>\n",
       "      <td>0.262522</td>\n",
       "      <td>1.000000</td>\n",
       "    </tr>\n",
       "  </tbody>\n",
       "</table>\n",
       "</div>"
      ],
      "text/plain": [
       "              ID       Oxy     Pulse      Temp    Result\n",
       "ID      1.000000 -0.002693 -0.012499 -0.009279  0.011395\n",
       "Oxy    -0.002693  1.000000 -0.005724 -0.015681 -0.777019\n",
       "Pulse  -0.012499 -0.005724  1.000000  0.009602  0.050590\n",
       "Temp   -0.009279 -0.015681  0.009602  1.000000  0.262522\n",
       "Result  0.011395 -0.777019  0.050590  0.262522  1.000000"
      ]
     },
     "execution_count": 9,
     "metadata": {},
     "output_type": "execute_result"
    }
   ],
   "source": [
    "originalData_df.corr()"
   ]
  },
  {
   "cell_type": "markdown",
   "metadata": {},
   "source": [
    "Im curious what Sp02 levels look like in a histogram for positive and negative results. Extreme Sp02 levels tend to represent the majority of Positive and Negative results."
   ]
  },
  {
   "cell_type": "code",
   "execution_count": 10,
   "metadata": {},
   "outputs": [
    {
     "data": {
      "text/plain": [
       "<AxesSubplot:title={'center':'Sp02 levels for negative results'}, ylabel='Frequency'>"
      ]
     },
     "execution_count": 10,
     "metadata": {},
     "output_type": "execute_result"
    },
    {
     "data": {
      "image/png": "[encoded data removed]",
      "text/plain": [
       "<Figure size 1080x360 with 2 Axes>"
      ]
     },
     "metadata": {
      "needs_background": "light"
     },
     "output_type": "display_data"
    }
   ],
   "source": [
    "fig, ax = plt.subplots(1,2,figsize=(15,5))\n",
    "\n",
    "oxy_df = originalData_df.loc[originalData_df['Result'] == 1]\n",
    "oxy_df['Oxy'].plot(kind='hist', ax=ax[0], xlabel='sp02', title=\"Sp02 levels for positive results\")\n",
    "\n",
    "oxy_df = originalData_df.loc[originalData_df['Result'] == 0]\n",
    "oxy_df['Oxy'].plot(kind='hist', ax=ax[1], xlabel='sp02', title=\"Sp02 levels for negative results\")"
   ]
  },
  {
   "cell_type": "markdown",
   "metadata": {},
   "source": [
    "Lets also take a look at a histogram of Temperature. What we see is that the majority of positive cases are in the extreme temperature range. Interestingly enough, there is a lower frequency of negative cases for temps between 101 and 103 but with a higher frequency of cases at 104. A 104 temperature means you are twice as likely to have Covid based on the charts below. A negative covid diagnosis though does not mean you will not have a high temperature of 104. "
   ]
  },
  {
   "cell_type": "code",
   "execution_count": 11,
   "metadata": {},
   "outputs": [
    {
     "data": {
      "text/plain": [
       "<AxesSubplot:title={'center':'Temp levels for negative results'}, ylabel='Frequency'>"
      ]
     },
     "execution_count": 11,
     "metadata": {},
     "output_type": "execute_result"
    },
    {
     "data": {
      "image/png": "[encoded data removed]",
      "text/plain": [
       "<Figure size 1080x360 with 2 Axes>"
      ]
     },
     "metadata": {
      "needs_background": "light"
     },
     "output_type": "display_data"
    }
   ],
   "source": [
    "fig, ax = plt.subplots(1,2,figsize=(15,5))\n",
    "\n",
    "oxy_df = originalData_df.loc[originalData_df['Result'] == 1]\n",
    "oxy_df['Temp'].plot(kind='hist', ax=ax[0], title=\"Temp levels for positive results\")\n",
    "\n",
    "oxy_df = originalData_df.loc[originalData_df['Result'] == 0]\n",
    "oxy_df['Temp'].plot(kind='hist', ax=ax[1], title=\"Temp levels for negative results\")"
   ]
  },
  {
   "cell_type": "markdown",
   "metadata": {},
   "source": [
    "## Building a model"
   ]
  },
  {
   "cell_type": "markdown",
   "metadata": {},
   "source": [
    "First lets split our data into features and targets"
   ]
  },
  {
   "cell_type": "code",
   "execution_count": 12,
   "metadata": {},
   "outputs": [],
   "source": [
    "train_x = originalData_df.iloc[:,1:4].values\n",
    "train_y = originalData_df.iloc[:,-1:].values"
   ]
  },
  {
   "cell_type": "markdown",
   "metadata": {},
   "source": [
    "Next lets normalize the data for our models and split into train and test datasets"
   ]
  },
  {
   "cell_type": "code",
   "execution_count": 13,
   "metadata": {},
   "outputs": [
    {
     "name": "stderr",
     "output_type": "stream",
     "text": [
      "/Users/christopherweaver/opt/anaconda3/lib/python3.8/site-packages/sklearn/utils/validation.py:475: DataConversionWarning: Data with input dtype int64 was converted to float64 by StandardScaler.\n",
      "  warnings.warn(msg, DataConversionWarning)\n"
     ]
    }
   ],
   "source": [
    "X = preprocessing.StandardScaler().fit(train_x).transform(train_x)\n",
    "X_train, X_test, y_train, y_test = train_test_split( X, train_y, test_size=0.25, random_state=4)"
   ]
  },
  {
   "cell_type": "markdown",
   "metadata": {},
   "source": [
    "Lets start with a logistic regression model. The model is very simple, but with so few features and some high correlation between features and targets, this model might be good."
   ]
  },
  {
   "cell_type": "code",
   "execution_count": 14,
   "metadata": {},
   "outputs": [
    {
     "name": "stderr",
     "output_type": "stream",
     "text": [
      "/Users/christopherweaver/opt/anaconda3/lib/python3.8/site-packages/sklearn/utils/validation.py:578: DataConversionWarning: A column-vector y was passed when a 1d array was expected. Please change the shape of y to (n_samples, ), for example using ravel().\n",
      "  y = column_or_1d(y, warn=True)\n"
     ]
    }
   ],
   "source": [
    "from sklearn.linear_model import LogisticRegression\n",
    "logistic_model = LogisticRegression(random_state=0).fit(X_train, y_train)"
   ]
  },
  {
   "cell_type": "code",
   "execution_count": 15,
   "metadata": {},
   "outputs": [
    {
     "name": "stdout",
     "output_type": "stream",
     "text": [
      "Mean accuracy for train data: 0.9210666666666667\n",
      "Mean accuracy for test data: 0.9216\n"
     ]
    }
   ],
   "source": [
    "train_score = logistic_model.score(X_train, y_train)\n",
    "print(\"Mean accuracy for train data: {}\".format(train_score))\n",
    "\n",
    "test_score = logistic_model.score(X_test, y_test)\n",
    "print(\"Mean accuracy for test data: {}\".format(test_score))"
   ]
  },
  {
   "cell_type": "code",
   "execution_count": 16,
   "metadata": {},
   "outputs": [
    {
     "data": {
      "text/plain": [
       "DecisionTreeClassifier(class_weight=None, criterion='gini', max_depth=None,\n",
       "            max_features=None, max_leaf_nodes=None,\n",
       "            min_impurity_decrease=0.0, min_impurity_split=None,\n",
       "            min_samples_leaf=1, min_samples_split=2,\n",
       "            min_weight_fraction_leaf=0.0, presort=False, random_state=None,\n",
       "            splitter='best')"
      ]
     },
     "execution_count": 16,
     "metadata": {},
     "output_type": "execute_result"
    }
   ],
   "source": [
    "from sklearn import tree\n",
    "clf = tree.DecisionTreeClassifier()\n",
    "clf.fit(X_train, y_train)"
   ]
  },
  {
   "cell_type": "code",
   "execution_count": 17,
   "metadata": {},
   "outputs": [
    {
     "name": "stdout",
     "output_type": "stream",
     "text": [
      "Mean accuracy for train data: 1.0\n",
      "Mean accuracy for test data: 1.0\n"
     ]
    }
   ],
   "source": [
    "print(\"Mean accuracy for train data: {}\".format(clf.score(X_train, y_train)))\n",
    "print(\"Mean accuracy for test data: {}\".format(clf.score(X_test, y_test)))"
   ]
  },
  {
   "cell_type": "markdown",
   "metadata": {},
   "source": [
    "Part of the purpose of this project is to design an iOS mobile app that can monitor Covid-19 without much needed from the end user. An Apple Watch series 6 can monitor pulse and Sp02 levels throughout the day, but not temperature. Temperature readings would require user input to achieve. Lets see what our models would look like if we preceeded without temperature as a feature. Due to the high correlation between Sp02 and Result, we might be able to get away with this sort or dimensionality reduction."
   ]
  },
  {
   "cell_type": "code",
   "execution_count": 18,
   "metadata": {},
   "outputs": [],
   "source": [
    "train_x2 = originalData_df.iloc[:,1:3].values\n",
    "train_y2 = originalData_df.iloc[:,-1:].values\n",
    "\n",
    "X_train2, X_test2, y_train2, y_test2 = train_test_split( train_x2, train_y2, test_size=0.25, random_state=4)"
   ]
  },
  {
   "cell_type": "markdown",
   "metadata": {},
   "source": [
    "As I will mention later in this notebook, I will be using this model for my iOS app. I will pipeline the entire thing, including the standard scaler into the coreml model."
   ]
  },
  {
   "cell_type": "code",
   "execution_count": 19,
   "metadata": {},
   "outputs": [
    {
     "name": "stdout",
     "output_type": "stream",
     "text": [
      "Mean accuracy for train data: 0.8537333333333333\n",
      "Mean accuracy for test data: 0.8544\n"
     ]
    },
    {
     "name": "stderr",
     "output_type": "stream",
     "text": [
      "/Users/christopherweaver/opt/anaconda3/lib/python3.8/site-packages/sklearn/utils/validation.py:475: DataConversionWarning: Data with input dtype int64 was converted to float64 by StandardScaler.\n",
      "  warnings.warn(msg, DataConversionWarning)\n",
      "/Users/christopherweaver/opt/anaconda3/lib/python3.8/site-packages/sklearn/utils/validation.py:578: DataConversionWarning: A column-vector y was passed when a 1d array was expected. Please change the shape of y to (n_samples, ), for example using ravel().\n",
      "  y = column_or_1d(y, warn=True)\n"
     ]
    }
   ],
   "source": [
    "scaler = preprocessing.StandardScaler()\n",
    "lm2 = LogisticRegression(random_state=0)\n",
    "\n",
    "pipeline = Pipeline([('scaler', scaler), ('logistic_model2',lm2)])\n",
    "\n",
    "logistic_model2 = pipeline.fit(X_train2, y_train2)\n",
    "train_score2 = logistic_model2.score(X_train2, y_train2)\n",
    "print(\"Mean accuracy for train data: {}\".format(train_score2))\n",
    "\n",
    "test_score2 = logistic_model2.score(X_test2, y_test2)\n",
    "print(\"Mean accuracy for test data: {}\".format(test_score2))\n"
   ]
  },
  {
   "cell_type": "markdown",
   "metadata": {},
   "source": [
    "Trying another Decision Tree with only two dimensions"
   ]
  },
  {
   "cell_type": "code",
   "execution_count": 20,
   "metadata": {},
   "outputs": [
    {
     "name": "stdout",
     "output_type": "stream",
     "text": [
      "Mean accuracy for train data: 0.8570666666666666\n",
      "Mean accuracy for test data: 0.8592\n"
     ]
    },
    {
     "name": "stderr",
     "output_type": "stream",
     "text": [
      "/Users/christopherweaver/opt/anaconda3/lib/python3.8/site-packages/sklearn/utils/validation.py:475: DataConversionWarning: Data with input dtype int64 was converted to float64 by StandardScaler.\n",
      "  warnings.warn(msg, DataConversionWarning)\n"
     ]
    }
   ],
   "source": [
    "clf2_model = tree.DecisionTreeClassifier(max_depth=2)\n",
    "clf2 = Pipeline([('scaler', scaler), ('clf2',clf2_model)])\n",
    "clf2.fit(X_train2, y_train2)\n",
    "print(\"Mean accuracy for train data: {}\".format(clf2.score(X_train2, y_train2)))\n",
    "print(\"Mean accuracy for test data: {}\".format(clf2.score(X_test2, y_test2)))"
   ]
  },
  {
   "cell_type": "markdown",
   "metadata": {},
   "source": [
    "Accuracy was lower for both models, but still relatively good. This shows just how much weight the Sp02 readings hold as influence over the model."
   ]
  },
  {
   "cell_type": "markdown",
   "metadata": {},
   "source": [
    "## Evaluation"
   ]
  },
  {
   "cell_type": "markdown",
   "metadata": {},
   "source": [
    "First, lets check out our precision and recall values for our models that takes in Sp02, Pulse, and Temperature. \n",
    "\n",
    "As we can see, precision and recall are perfect for the decision tree. These model is very accurate with the test set."
   ]
  },
  {
   "cell_type": "code",
   "execution_count": 21,
   "metadata": {},
   "outputs": [],
   "source": [
    "from sklearn.metrics import precision_recall_fscore_support\n",
    "y_pred = [clf.predict([x]) for x in X_test]\n",
    "precision, recall, fscore, support = precision_recall_fscore_support(y_test, y_pred, average='binary')"
   ]
  },
  {
   "cell_type": "code",
   "execution_count": 22,
   "metadata": {},
   "outputs": [
    {
     "name": "stdout",
     "output_type": "stream",
     "text": [
      "Precision: 1.0, Recall: 1.0, fscore: 1.0\n"
     ]
    }
   ],
   "source": [
    "print(\"Precision: {}, Recall: {}, fscore: {}\".format(precision, recall, fscore))"
   ]
  },
  {
   "cell_type": "markdown",
   "metadata": {},
   "source": [
    "As mentioned above, temperature data may not be readily available for our model. Taking a look at our second model that only looked at Sp02 and Pulse features, we see a precision and recall value of around 86%. This is significantly lower, but still relatively high.\n",
    "\n",
    "It should be noted, I originally set a max depth of 4 for this deicision tree. What I saw was that the precision was very high (95%) but our recall was low (76%). This means that when our model says you have Covid-19, it is highly accurate. But in many times it will miss a diagnosis when it should make it. This is the opposite of what we wanted, in cases like predicting infectious diseases, we much prefer false positves to false negatives. I choose to use a model that is less precise but has a lower false negative rate for safety purposes."
   ]
  },
  {
   "cell_type": "code",
   "execution_count": 23,
   "metadata": {},
   "outputs": [],
   "source": [
    "y_pred = [clf2.predict([x]) for x in X_test2]\n",
    "precision, recall, fscore, support = precision_recall_fscore_support(y_test, y_pred, average='binary')"
   ]
  },
  {
   "cell_type": "code",
   "execution_count": 24,
   "metadata": {},
   "outputs": [
    {
     "name": "stdout",
     "output_type": "stream",
     "text": [
      "Precision: 0.8716049382716049, Recall: 0.8438247011952191, fscore: 0.8574898785425101\n"
     ]
    }
   ],
   "source": [
    "print(\"Precision: {}, Recall: {}, fscore: {}\".format(precision, recall, fscore))"
   ]
  },
  {
   "cell_type": "markdown",
   "metadata": {},
   "source": [
    "My current problem is if I wanted to roll this out into production, I would like a way to evaluate model outputs as a percentage. That way, if the model outputs something higher than 75%, we can notify the user and have them provide more input for another model that is more accurate. But the two model I have built above only output binary values of 1 or 0. To overcome this, I need my model to output a prediction value. "
   ]
  },
  {
   "cell_type": "code",
   "execution_count": 25,
   "metadata": {},
   "outputs": [
    {
     "name": "stdout",
     "output_type": "stream",
     "text": [
      "Precision: 0.8075085324232082, Recall: 0.9426294820717132, fscore: 0.8698529411764705\n"
     ]
    }
   ],
   "source": [
    "y_pred_raw = [logistic_model2.predict_proba([x]) for x in X_test2]\n",
    "y_pred = [0 if x[0][0] > 0.75 else 1 for x in y_pred_raw]\n",
    "precision, recall, fscore, support = precision_recall_fscore_support(y_test, y_pred, average='binary')\n",
    "print(\"Precision: {}, Recall: {}, fscore: {}\".format(precision, recall, fscore))"
   ]
  },
  {
   "cell_type": "markdown",
   "metadata": {},
   "source": [
    "If we set any diagnosis to positive for Covid if our model is less than 75% sure that the user does not have Covid, we get an excellent Recall and still a very good precision. This is ideal for this scenario, we will have few false positives, but enough precision to notify the user and ask them for more information to run a more accuate model when needed.\n",
    "\n",
    "Looking at the graph below helps give an idea what range the model is making predictions in."
   ]
  },
  {
   "cell_type": "code",
   "execution_count": 26,
   "metadata": {},
   "outputs": [
    {
     "data": {
      "text/plain": [
       "<matplotlib.legend.Legend at 0x7fb5f988cee0>"
      ]
     },
     "execution_count": 26,
     "metadata": {},
     "output_type": "execute_result"
    },
    {
     "data": {
      "image/png": "[encoded data removed]",
      "text/plain": [
       "<Figure size 720x576 with 1 Axes>"
      ]
     },
     "metadata": {
      "needs_background": "light"
     },
     "output_type": "display_data"
    }
   ],
   "source": [
    "plt.figure(figsize=(10,8))\n",
    "plt.hist(y_test, bins=5, alpha=0.5, label=\"predicted\")\n",
    "plt.hist([x[0][0] for x in y_pred_raw], bins=5, alpha=0.5, label=\"actual\")\n",
    "\n",
    "\n",
    "plt.xlabel(\"Covid Diagnosis\", size=14)\n",
    "plt.ylabel(\"Count\", size=14)\n",
    "plt.title(\"Model Evaluation\")\n",
    "plt.legend(loc='upper right')"
   ]
  },
  {
   "cell_type": "markdown",
   "metadata": {},
   "source": [
    "Plotting log loss, confirms a balanced dataset and that our linear classifier is not biased towards zero or one probablities"
   ]
  },
  {
   "cell_type": "code",
   "execution_count": 27,
   "metadata": {},
   "outputs": [
    {
     "name": "stdout",
     "output_type": "stream",
     "text": [
      "Overall log loss: 2.789645494485006\n"
     ]
    },
    {
     "data": {
      "image/png": "[encoded data removed]",
      "text/plain": [
       "<Figure size 432x288 with 1 Axes>"
      ]
     },
     "metadata": {
      "needs_background": "light"
     },
     "output_type": "display_data"
    }
   ],
   "source": [
    "from sklearn.metrics import log_loss\n",
    "\n",
    "y_pred2 = [x[0][0]for x in y_pred_raw]\n",
    "\n",
    "print(\"Overall log loss: {}\".format(log_loss(y_test[:,0], y_pred2)))\n",
    "\n",
    "losses = []\n",
    "for idx in range(len(y_test)): \n",
    "    losses.append( log_loss([y_test[idx][0]], [y_pred2[idx]], labels=[0,1]))\n",
    "\n",
    "plt.scatter(y_pred2, losses)\n",
    "plt.title(\"title\")\n",
    "plt.ylabel('log loss')\n",
    "plt.xlabel('prediction')\n",
    "plt.show()"
   ]
  },
  {
   "cell_type": "markdown",
   "metadata": {},
   "source": [
    "ROC shows what we expect to see, many more false positives as we did a tradeoff for a high recall"
   ]
  },
  {
   "cell_type": "code",
   "execution_count": 28,
   "metadata": {},
   "outputs": [],
   "source": [
    "from sklearn.metrics import roc_curve\n",
    "from sklearn.metrics import roc_auc_score"
   ]
  },
  {
   "cell_type": "code",
   "execution_count": 29,
   "metadata": {},
   "outputs": [
    {
     "data": {
      "image/png": "[encoded data removed]",
      "text/plain": [
       "<Figure size 432x288 with 1 Axes>"
      ]
     },
     "metadata": {
      "needs_background": "light"
     },
     "output_type": "display_data"
    }
   ],
   "source": [
    "\n",
    "fpr, tpr, thresholds = roc_curve(y_test, y_pred2)\n",
    "\n",
    "plt.plot([0, 1], [0, 1], linestyle='--')\n",
    "plt.plot(fpr, tpr)\n",
    "plt.xlabel('False Positive Rate')\n",
    "plt.ylabel('True Positive Rate')\n",
    "plt.show()"
   ]
  },
  {
   "cell_type": "markdown",
   "metadata": {},
   "source": [
    "Next, lets save our model for use on an iOS app using CoreML. For now, I will be using our second logistic regression model because its inputs can come directly from the Apple watch without users needing to do anything. I choose this model over the decision tree because of the higher recall values."
   ]
  },
  {
   "cell_type": "code",
   "execution_count": 61,
   "metadata": {},
   "outputs": [],
   "source": [
    "input_features = ['Oxy','Pulse']\n",
    "output_feature = \"covid\"\n",
    "model = coremltools.converters.sklearn.convert(logistic_model2, input_features, output_feature)\n",
    "model.save(\"Vitals.mlmodel\")"
   ]
  }
 ],
 "metadata": {
  "kernelspec": {
   "display_name": "Python 3",
   "language": "python",
   "name": "python3"
  },
  "language_info": {
   "codemirror_mode": {
    "name": "ipython",
    "version": 3
   },
   "file_extension": ".py",
   "mimetype": "text/x-python",
   "name": "python",
   "nbconvert_exporter": "python",
   "pygments_lexer": "ipython3",
   "version": "3.8.5"
  }
 },
 "nbformat": 4,
 "nbformat_minor": 4
}
